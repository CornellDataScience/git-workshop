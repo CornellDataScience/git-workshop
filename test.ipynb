{
 "cells": [
  {
   "cell_type": "code",
   "execution_count": 1,
   "metadata": {},
   "outputs": [
    {
     "name": "stdout",
     "output_type": "stream",
     "text": [
      "Requirement already satisfied: requests in /Users/ronaldfeng/anaconda3/lib/python3.10/site-packages (2.28.1)\n",
      "Requirement already satisfied: idna<4,>=2.5 in /Users/ronaldfeng/anaconda3/lib/python3.10/site-packages (from requests) (3.4)\n",
      "Requirement already satisfied: urllib3<1.27,>=1.21.1 in /Users/ronaldfeng/anaconda3/lib/python3.10/site-packages (from requests) (1.26.14)\n",
      "Requirement already satisfied: charset-normalizer<3,>=2 in /Users/ronaldfeng/anaconda3/lib/python3.10/site-packages (from requests) (2.0.4)\n",
      "Requirement already satisfied: certifi>=2017.4.17 in /Users/ronaldfeng/anaconda3/lib/python3.10/site-packages (from requests) (2023.7.22)\n",
      "Note: you may need to restart the kernel to use updated packages.\n"
     ]
    }
   ],
   "source": [
    "pip install requests"
   ]
  },
  {
   "cell_type": "code",
   "execution_count": 2,
   "metadata": {},
   "outputs": [],
   "source": [
    "import requests"
   ]
  },
  {
   "cell_type": "code",
   "execution_count": 3,
   "metadata": {},
   "outputs": [],
   "source": [
    "api_key = 'b6a35b22-ac88-4200-a4ed-f50c0c21e159'\n",
    "headers = {\n",
    "    'Authorization': f'Bearer {api_key}'\n",
    "}\n"
   ]
  },
  {
   "cell_type": "code",
   "execution_count": 4,
   "metadata": {},
   "outputs": [],
   "source": [
    "url = 'https://api.elections.kalshi.com/trade-api/v2/markets'\n",
    "response = requests.get(url, headers=headers)\n"
   ]
  },
  {
   "cell_type": "code",
   "execution_count": 13,
   "metadata": {},
   "outputs": [
    {
     "name": "stdout",
     "output_type": "stream",
     "text": [
      "Sports market data saved to 'kalshi_sports_markets.txt'.\n"
     ]
    }
   ],
   "source": [
    "if response.status_code == 200:\n",
    "    markets = response.json().get('markets', [])\n",
    "    sports_markets = [market for market in markets if 'sports' in market.get('categories', [])]\n",
    "\n",
    "    # Write output to a file\n",
    "    with open(\"kalshi_sports_markets.txt\", \"w\") as file:\n",
    "        for market in sports_markets:\n",
    "            file.write(f\"Market Name: {market.get('title')}\\n\")\n",
    "            file.write(f\"Event Date: {market.get('end_date')}\\n\")\n",
    "            file.write(f\"Yes Price: {market.get('yes_price')}\\n\")\n",
    "            file.write(f\"No Price: {market.get('no_price')}\\n\")\n",
    "            file.write('-' * 20 + '\\n')\n",
    "\n",
    "    print(\"Sports market data saved to 'kalshi_sports_markets.txt'.\")\n",
    "else:\n",
    "    print(f\"Failed to retrieve markets: {response.status_code}\")"
   ]
  },
  {
   "cell_type": "code",
   "execution_count": null,
   "metadata": {},
   "outputs": [],
   "source": []
  }
 ],
 "metadata": {
  "kernelspec": {
   "display_name": "Python 3",
   "language": "python",
   "name": "python3"
  },
  "language_info": {
   "codemirror_mode": {
    "name": "ipython",
    "version": 3
   },
   "file_extension": ".py",
   "mimetype": "text/x-python",
   "name": "python",
   "nbconvert_exporter": "python",
   "pygments_lexer": "ipython3",
   "version": "3.10.9"
  }
 },
 "nbformat": 4,
 "nbformat_minor": 2
}
